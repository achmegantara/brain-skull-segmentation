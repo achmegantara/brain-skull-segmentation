{
 "cells": [
  {
   "cell_type": "code",
   "execution_count": 1,
   "metadata": {},
   "outputs": [],
   "source": [
    "import os\n",
    "import numpy\n",
    "import vtk"
   ]
  },
  {
   "cell_type": "code",
   "execution_count": 2,
   "metadata": {},
   "outputs": [],
   "source": [
    "from IPython.display import Image\n",
    "def vtk_show(renderer, width=400, height=300):\n",
    "    \"\"\"\n",
    "    Takes vtkRenderer instance and returns an IPython Image with the rendering.\n",
    "    \"\"\"\n",
    "    renderWindow = vtk.vtkRenderWindow()\n",
    "    renderWindow.SetOffScreenRendering(1)\n",
    "    renderWindow.AddRenderer(renderer)\n",
    "    renderWindow.SetSize(width, height)\n",
    "    renderWindow.Render()\n",
    "     \n",
    "    windowToImageFilter = vtk.vtkWindowToImageFilter()\n",
    "    windowToImageFilter.SetInput(renderWindow)\n",
    "    windowToImageFilter.Update()\n",
    "     \n",
    "    writer = vtk.vtkPNGWriter()\n",
    "    writer.SetWriteToMemory(1)\n",
    "    writer.SetInputConnection(windowToImageFilter.GetOutputPort())\n",
    "    writer.Write()\n",
    "    data = str(buffer(writer.GetResult()))\n",
    "    \n",
    "    return Image(data)"
   ]
  },
  {
   "cell_type": "code",
   "execution_count": 3,
   "metadata": {},
   "outputs": [],
   "source": [
    "def createDummyRenderer():\n",
    "    renderer = vtk.vtkRenderer()\n",
    "    renderer.SetBackground(1.0, 1.0, 1.0)\n",
    "\n",
    "    camera = renderer.MakeCamera()\n",
    "    camera.SetPosition(-256, -256, 512)\n",
    "    camera.SetFocalPoint(0.0, 0.0, 255.0)\n",
    "    camera.SetViewAngle(30.0)\n",
    "    camera.SetViewUp(0.46, -0.80, -0.38)\n",
    "    renderer.SetActiveCamera(camera)\n",
    "    \n",
    "    return renderer"
   ]
  },
  {
   "cell_type": "code",
   "execution_count": 4,
   "metadata": {},
   "outputs": [],
   "source": [
    "l2n = lambda l: numpy.array(l)\n",
    "n2l = lambda n: list(n)"
   ]
  },
  {
   "cell_type": "code",
   "execution_count": null,
   "metadata": {},
   "outputs": [],
   "source": [
    "# Path to the .mha file\n",
    "filenameSegmentation = \"./nac_brain_atlas/brain_segmentation.mha\"\n",
    "\n",
    "# Path to colorfile.txt \n",
    "filenameColorfile = \"./nac_brain_atlas/colorfile.txt\"\n",
    "\n",
    "# Opacity of the different volumes (between 0.0 and 1.0)\n",
    "volOpacityDef = 0.25\n"
   ]
  }
 ],
 "metadata": {
  "kernelspec": {
   "display_name": "Python 3",
   "language": "python",
   "name": "python3"
  },
  "language_info": {
   "codemirror_mode": {
    "name": "ipython",
    "version": 3
   },
   "file_extension": ".py",
   "mimetype": "text/x-python",
   "name": "python",
   "nbconvert_exporter": "python",
   "pygments_lexer": "ipython3",
   "version": "3.7.1"
  }
 },
 "nbformat": 4,
 "nbformat_minor": 2
}
