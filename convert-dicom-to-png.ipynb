{
 "cells": [
  {
   "cell_type": "code",
   "execution_count": 1,
   "metadata": {},
   "outputs": [],
   "source": [
    "import pydicom as dicom\n",
    "import os\n",
    "import cv2\n",
    "import PIL # optional\n",
    "# make it True if you want in PNG format\n",
    "PNG = False"
   ]
  },
  {
   "cell_type": "code",
   "execution_count": 8,
   "metadata": {},
   "outputs": [
    {
     "name": "stdout",
     "output_type": "stream",
     "text": [
      "0 image converted\n",
      "50 image converted\n",
      "100 image converted\n",
      "150 image converted\n"
     ]
    }
   ],
   "source": [
    "# Specify the .dcm folder path\n",
    "folder_path = \"MRI\"\n",
    "# Specify the output jpg/png folder path\n",
    "jpg_folder_path = \"Hsl-cnvrt\"\n",
    "images_path = os.listdir(folder_path)\n",
    "for n, image in enumerate(images_path):\n",
    "    ds = dicom.dcmread(os.path.join(folder_path, image))\n",
    "    pixel_array_numpy = ds.pixel_array\n",
    "    if PNG == False:\n",
    "        image = image.replace('', '.jpg')\n",
    "    else:\n",
    "        image = image.replace('', '.png')\n",
    "    cv2.imwrite(os.path.join(jpg_folder_path, image), pixel_array_numpy)\n",
    "    if n % 50 == 0:\n",
    "        print('{} image converted'.format(n))"
   ]
  }
 ],
 "metadata": {
  "kernelspec": {
   "display_name": "Python 3",
   "language": "python",
   "name": "python3"
  },
  "language_info": {
   "codemirror_mode": {
    "name": "ipython",
    "version": 3
   },
   "file_extension": ".py",
   "mimetype": "text/x-python",
   "name": "python",
   "nbconvert_exporter": "python",
   "pygments_lexer": "ipython3",
   "version": "3.7.1"
  }
 },
 "nbformat": 4,
 "nbformat_minor": 2
}
